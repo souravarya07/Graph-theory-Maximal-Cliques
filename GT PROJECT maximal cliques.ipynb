{
 "cells": [
  {
   "cell_type": "code",
   "execution_count": 2,
   "metadata": {},
   "outputs": [],
   "source": [
    "import networkx as nx\n",
    "import numpy as np\n",
    "import matplotlib.pyplot as plt\n",
    "from networkx.drawing.nx_agraph import graphviz_layout"
   ]
  },
  {
   "cell_type": "code",
   "execution_count": 6,
   "metadata": {},
   "outputs": [],
   "source": [
    "def intersection(sets):\n",
    "    return list(set.intersection(*map(set, sets)))    "
   ]
  },
  {
   "cell_type": "code",
   "execution_count": 7,
   "metadata": {},
   "outputs": [],
   "source": [
    "def exclusion(Node_A, Node_B):\n",
    "    try:\n",
    "        excluded = [x for x in Node_A if x not in Node_B]\n",
    "    except:\n",
    "        excluded = [x for x in Node_A if x!=Node_B]\n",
    "    return excluded"
   ]
  },
  {
   "cell_type": "code",
   "execution_count": 8,
   "metadata": {},
   "outputs": [],
   "source": [
    "def largestVertex(G, SUBG, CAND):\n",
    "    intersectionLength = []\n",
    "    for node in SUBG:\n",
    "        intersectionLength.append( len(intersection([list(G.neighbors(node)), list(CAND.nodes())])))\n",
    "    index = np.where(intersectionLength == np.max(intersectionLength))\n",
    "    return list(SUBG.nodes())[index[0][0]]"
   ]
  },
  {
   "cell_type": "code",
   "execution_count": 9,
   "metadata": {},
   "outputs": [],
   "source": [
    "def EXPAND(G, SUBG, CAND, L):\n",
    "    if len(list(SUBG.nodes()))==0:\n",
    "        print(\"CLIQUE\")\n",
    "        L.append('clique')\n",
    "    else:\n",
    "        u = largestVertex(G, SUBG, CAND)\n",
    "        while len( exclusion(list(CAND.nodes()), list(G.neighbors(u)) ))!=0:\n",
    "            previous_node = [\"ROOT\"]\n",
    "            q = list(CAND.subgraph(exclusion(list(CAND.nodes()), list(G.neighbors(u)))).nodes())[0]\n",
    "            print(q, end=\",\")\n",
    "            L.append(q)\n",
    "            SUBGq = SUBG.subgraph( intersection([list(SUBG.nodes()), list(G.neighbors(q))]))\n",
    "            CANDq = CAND.subgraph( intersection([list(CAND.nodes()), list(G.neighbors(q))]))\n",
    "            EXPAND(G, SUBGq, CANDq, L)\n",
    "            CAND = CAND.subgraph(exclusion(list(CAND.nodes()), q))\n",
    "            print('back', end=',')\n",
    "            L.append('back')"
   ]
  },
  {
   "cell_type": "code",
   "execution_count": 10,
   "metadata": {},
   "outputs": [],
   "source": [
    "def CLIQUES(G):\n",
    "    L = list()\n",
    "    EXPAND(G, G, G, L)\n",
    "    print('finished')\n",
    "    return L"
   ]
  },
  {
   "cell_type": "code",
   "execution_count": 11,
   "metadata": {},
   "outputs": [],
   "source": [
    "def preprocess(G):\n",
    "    wedges = dict()\n",
    "    for i in list(G.nodes()):\n",
    "        wedges_i = []\n",
    "        for j in list(G.nodes()):\n",
    "            if i!=j:\n",
    "                wedges_from_j = [x for x in list( nx.all_simple_paths(G,j,i,2)) if (len(x)==3)]\n",
    "                for w in wedges_from_j:\n",
    "                    if w !=[]:\n",
    "                        wedges_i.append(w)\n",
    "        wedges[i] = wedges_i\n",
    "    return wedges"
   ]
  },
  {
   "cell_type": "code",
   "execution_count": 12,
   "metadata": {},
   "outputs": [],
   "source": [
    "def hierarchy_pos(G, root=None, width=1., vert_gap = 0.2, vert_loc = 0, xcenter = 0.5):\n",
    "    if not nx.is_tree(G):\n",
    "        raise TypeError('cannot use hierarchy_pos on a graph that is not a tree')\n",
    "    if root is None:\n",
    "        if isinstance(G, nx.DiGraph):\n",
    "            root = next(iter(nx.topological_sort(G)))  #allows back compatibility with nx version 1.11\n",
    "        else:\n",
    "            root = random.choice(list(G.nodes))\n",
    "    def _hierarchy_pos(G, root, width=.8, vert_gap = 0.2, vert_loc = 0, xcenter = 0.5, pos = None, parent = None):\n",
    "        if pos is None:\n",
    "            pos = {root:(xcenter,vert_loc)}\n",
    "        else:\n",
    "            pos[root] = (xcenter, vert_loc)\n",
    "        children = list(G.neighbors(root))\n",
    "        if not isinstance(G, nx.DiGraph) and parent is not None:\n",
    "            children.remove(parent)  \n",
    "        if len(children)!=0:\n",
    "            dx = width/len(children) \n",
    "            nextx = xcenter - width/2 - dx/2\n",
    "            for child in children:\n",
    "                nextx += dx\n",
    "                pos = _hierarchy_pos(G,child, width = dx, vert_gap = vert_gap, \n",
    "                                    vert_loc = vert_loc-vert_gap, xcenter=nextx,\n",
    "                                    pos=pos, parent = root)\n",
    "        return pos\n",
    "    return _hierarchy_pos(G, root, width, vert_gap, vert_loc, xcenter)"
   ]
  },
  {
   "cell_type": "code",
   "execution_count": 13,
   "metadata": {},
   "outputs": [],
   "source": [
    "def formatCliquesList(L):\n",
    "    newList = []\n",
    "    for i in range(len(L)):\n",
    "        if (L[i]!='clique'):\n",
    "            if L[i]!='back':\n",
    "                newList.append(L[i])\n",
    "            else:\n",
    "                xx = 0\n",
    "                rest = L[i:]\n",
    "                for x in range(len(rest)):\n",
    "                    if rest[x]=='back':\n",
    "                        xx += 1\n",
    "                    if rest[x]!='back':\n",
    "                        break\n",
    "                newList.append(str(xx))\n",
    "    fmtList = [newList[x] for x in range(len(newList)-1) if (not isinstance(newList[x],str)) or (not isinstance(newList[x-1],str))]\n",
    "    return fmtList"
   ]
  },
  {
   "cell_type": "code",
   "execution_count": 14,
   "metadata": {},
   "outputs": [],
   "source": [
    "def createTree(List):\n",
    "    tree = nx.DiGraph()\n",
    "    tree.add_node(0, value=\"ROOT\")\n",
    "    previousNodes = [0]\n",
    "    lastNode = 0\n",
    "    labels = {0:\"ROOT\"}\n",
    "    for i in range(len(List)):\n",
    "        if not isinstance(List[i], str):\n",
    "            labels[i+1] = List[i]\n",
    "            tree.add_node(i+1, value=List[i])\n",
    "            tree.add_edge(lastNode, i+1)\n",
    "            try:\n",
    "                if isinstance(List[i+1], str):\n",
    "                    shift = -int(List[i+1])+1\n",
    "                    if shift<0:\n",
    "                        previousNodes = previousNodes[:shift]\n",
    "                    lastNode = previousNodes[-1]\n",
    "                else:\n",
    "                    lastNode = i+1\n",
    "                    previousNodes.append(i+1)\n",
    "            except:\n",
    "                lastNode = i+1\n",
    "                previousNodes.append(i+1)\n",
    "        else:\n",
    "            pass\n",
    "    pos = hierarchy_pos(tree,0)\n",
    "    return tree, pos, labels"
   ]
  },
  {
   "cell_type": "code",
   "execution_count": null,
   "metadata": {},
   "outputs": [],
   "source": []
  },
  {
   "cell_type": "code",
   "execution_count": null,
   "metadata": {},
   "outputs": [],
   "source": []
  },
  {
   "cell_type": "code",
   "execution_count": 5,
   "metadata": {},
   "outputs": [
    {
     "data": {
      "image/png": "[encoded data removed]",
      "text/plain": [
       "<Figure size 432x288 with 1 Axes>"
      ]
     },
     "metadata": {},
     "output_type": "display_data"
    }
   ],
   "source": [
    "G = nx.Graph()\n",
    "vertices = [1,2, 3, 4, 5, 6, 7]\n",
    "edges = [(1, 2), (1, 5), (2, 5), (2, 4), (3, 7), (4,5), (6, 7)]\n",
    "G.add_nodes_from(vertices)\n",
    "G.add_edges_from(edges)\n",
    "labels = nx.draw_networkx(G, pos = nx.spring_layout(G))\n",
    "plt.axis('off')\n",
    "plt.show()"
   ]
  },
  {
   "cell_type": "code",
   "execution_count": 15,
   "metadata": {},
   "outputs": [
    {
     "name": "stdout",
     "output_type": "stream",
     "text": [
      "2,5,1,CLIQUE\n",
      "back,4,CLIQUE\n",
      "back,back,back,3,7,CLIQUE\n",
      "back,back,6,7,CLIQUE\n",
      "back,back,7,back,finished\n"
     ]
    },
    {
     "name": "stderr",
     "output_type": "stream",
     "text": [
      "C:\\Users\\saurabh\\Anaconda3\\lib\\site-packages\\networkx\\drawing\\nx_pylab.py:676: MatplotlibDeprecationWarning: \n",
      "The iterable function was deprecated in Matplotlib 3.1 and will be removed in 3.3. Use np.iterable instead.\n",
      "  if cb.iterable(node_size):  # many node sizes\n"
     ]
    },
    {
     "data": {
      "image/png": "[encoded data removed]",
      "text/plain": [
       "<Figure size 432x288 with 1 Axes>"
      ]
     },
     "metadata": {},
     "output_type": "display_data"
    }
   ],
   "source": [
    "L = formatCliquesList(CLIQUES(G))\n",
    "tree, pos, labels = createTree(L)\n",
    "nx.draw(tree, pos=pos, labels=labels, with_labels=True)\n",
    "plt.show()"
   ]
  },
  {
   "cell_type": "code",
   "execution_count": null,
   "metadata": {},
   "outputs": [],
   "source": []
  },
  {
   "cell_type": "code",
   "execution_count": null,
   "metadata": {},
   "outputs": [],
   "source": []
  },
  {
   "cell_type": "code",
   "execution_count": null,
   "metadata": {},
   "outputs": [],
   "source": []
  },
  {
   "cell_type": "code",
   "execution_count": null,
   "metadata": {},
   "outputs": [],
   "source": []
  },
  {
   "cell_type": "code",
   "execution_count": null,
   "metadata": {},
   "outputs": [],
   "source": []
  },
  {
   "cell_type": "code",
   "execution_count": null,
   "metadata": {},
   "outputs": [],
   "source": []
  },
  {
   "cell_type": "code",
   "execution_count": null,
   "metadata": {},
   "outputs": [],
   "source": []
  },
  {
   "cell_type": "code",
   "execution_count": null,
   "metadata": {},
   "outputs": [],
   "source": []
  }
 ],
 "metadata": {
  "kernelspec": {
   "display_name": "Python 3",
   "language": "python",
   "name": "python3"
  },
  "language_info": {
   "codemirror_mode": {
    "name": "ipython",
    "version": 3
   },
   "file_extension": ".py",
   "mimetype": "text/x-python",
   "name": "python",
   "nbconvert_exporter": "python",
   "pygments_lexer": "ipython3",
   "version": "3.7.4"
  }
 },
 "nbformat": 4,
 "nbformat_minor": 2
}
